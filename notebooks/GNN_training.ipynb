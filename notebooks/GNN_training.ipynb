{
 "cells": [
  {
   "cell_type": "markdown",
   "id": "344fea2b62d6fb53",
   "metadata": {},
   "source": [
    "# GNN Training"
   ]
  },
  {
   "cell_type": "code",
   "execution_count": 1,
   "id": "initial_id",
   "metadata": {
    "ExecuteTime": {
     "end_time": "2025-05-19T16:12:40.933214Z",
     "start_time": "2025-05-19T16:12:36.534930Z"
    },
    "collapsed": true
   },
   "outputs": [],
   "source": [
    "import torch\n",
    "\n",
    "from GNN_model.HeteroGAT import HeteroGAT\n",
    "from GNN_model.trainer import Trainer\n",
    "from GNN_model.graph_processor import GraphProcessor\n",
    "\n",
    "import utils"
   ]
  },
  {
   "cell_type": "markdown",
   "id": "3b0a336e3d098fff",
   "metadata": {},
   "source": [
    "## Data Preparation"
   ]
  },
  {
   "cell_type": "code",
   "execution_count": 2,
   "id": "f5fd8daedba7230d",
   "metadata": {
    "ExecuteTime": {
     "end_time": "2025-05-19T16:12:41.054510Z",
     "start_time": "2025-05-19T16:12:40.936559Z"
    }
   },
   "outputs": [
    {
     "name": "stdout",
     "output_type": "stream",
     "text": [
      "Data split: Train=84, Val=18, Test=18\n"
     ]
    }
   ],
   "source": [
    "load_saved_data = False\n",
    "base_data_dir = 'data/example_pool_sc_1/'\n",
    "data = GraphProcessor(base_data_dir, load_saved_data=load_saved_data).load_and_process_graphs()\n",
    "masks = utils.get_masks(data)"
   ]
  },
  {
   "cell_type": "markdown",
   "id": "37afbea9e90fcef8",
   "metadata": {},
   "source": [
    "## Model"
   ]
  },
  {
   "cell_type": "code",
   "execution_count": 3,
   "id": "fe5582668e15baea",
   "metadata": {
    "ExecuteTime": {
     "end_time": "2025-05-19T16:12:41.149021Z",
     "start_time": "2025-05-19T16:12:41.147124Z"
    }
   },
   "outputs": [],
   "source": [
    "num_classes = 2\n",
    "hidden_channels = 64\n",
    "epochs = 200\n",
    "batch_size = 32"
   ]
  },
  {
   "cell_type": "code",
   "execution_count": 4,
   "id": "9605537129671814",
   "metadata": {
    "ExecuteTime": {
     "end_time": "2025-05-19T16:12:41.155905Z",
     "start_time": "2025-05-19T16:12:41.154105Z"
    }
   },
   "outputs": [],
   "source": [
    "device = torch.device('cuda' if torch.cuda.is_available() else 'cpu')"
   ]
  },
  {
   "cell_type": "code",
   "execution_count": 5,
   "id": "68e68bc9e24dab3f",
   "metadata": {
    "ExecuteTime": {
     "end_time": "2025-05-19T16:12:41.201673Z",
     "start_time": "2025-05-19T16:12:41.160858Z"
    }
   },
   "outputs": [],
   "source": [
    "model = HeteroGAT(hidden_channels, num_classes).to(device=device)"
   ]
  },
  {
   "cell_type": "code",
   "execution_count": 6,
   "id": "efe4626dbd72dfa4",
   "metadata": {
    "ExecuteTime": {
     "end_time": "2025-05-19T16:12:41.208185Z",
     "start_time": "2025-05-19T16:12:41.206283Z"
    }
   },
   "outputs": [],
   "source": [
    "criterion = torch.nn.BCELoss()  # Define loss criterion.\n",
    "optimizer = torch.optim.Adam(model.parameters(), lr=0.01)  # Define optimizer."
   ]
  },
  {
   "cell_type": "code",
   "execution_count": 7,
   "id": "e34c1159b96f5d4a",
   "metadata": {
    "ExecuteTime": {
     "end_time": "2025-05-19T16:16:53.105992Z",
     "start_time": "2025-05-19T16:13:00.467819Z"
    }
   },
   "outputs": [
    {
     "name": "stdout",
     "output_type": "stream",
     "text": [
      "Filtered out 3 empty graphs\n",
      "Filtered out 0 empty graphs\n",
      "Filtered out 0 empty graphs\n",
      "Epoch 1/200:\n",
      "  Loss: 0.6740\n",
      "  Validation Accuracy: 0.7435\n",
      "  Learning Rate: 0.010000\n",
      "Epoch 2/200:\n",
      "  Loss: 0.5819\n",
      "  Validation Accuracy: 0.8526\n",
      "  Learning Rate: 0.010000\n",
      "Epoch 3/200:\n",
      "  Loss: 0.5371\n",
      "  Validation Accuracy: 0.8526\n",
      "  Learning Rate: 0.010000\n",
      "Epoch 4/200:\n",
      "  Loss: 0.5074\n",
      "  Validation Accuracy: 0.8526\n",
      "  Learning Rate: 0.010000\n",
      "Epoch 5/200:\n",
      "  Loss: 0.4956\n",
      "  Validation Accuracy: 0.8526\n",
      "  Learning Rate: 0.010000\n",
      "Epoch 6/200:\n",
      "  Loss: 0.4774\n",
      "  Validation Accuracy: 0.8526\n",
      "  Learning Rate: 0.010000\n",
      "Epoch 7/200:\n",
      "  Loss: 0.4759\n",
      "  Validation Accuracy: 0.8526\n",
      "  Learning Rate: 0.010000\n",
      "Epoch 8/200:\n",
      "  Loss: 0.4666\n",
      "  Validation Accuracy: 0.8526\n",
      "  Learning Rate: 0.010000\n",
      "Epoch 9/200:\n",
      "  Loss: 0.4673\n",
      "  Validation Accuracy: 0.8526\n",
      "  Learning Rate: 0.010000\n",
      "Epoch 10/200:\n",
      "  Loss: 0.4603\n",
      "  Validation Accuracy: 0.8526\n",
      "  Learning Rate: 0.007000\n",
      "Epoch 11/200:\n",
      "  Loss: 0.4527\n",
      "  Validation Accuracy: 0.8526\n",
      "  Learning Rate: 0.007000\n",
      "Epoch 12/200:\n",
      "  Loss: 0.4508\n",
      "  Validation Accuracy: 0.8526\n",
      "  Learning Rate: 0.007000\n",
      "Epoch 13/200:\n",
      "  Loss: 0.4485\n",
      "  Validation Accuracy: 0.8526\n",
      "  Learning Rate: 0.007000\n",
      "Epoch 14/200:\n",
      "  Loss: 0.4493\n",
      "  Validation Accuracy: 0.8526\n",
      "  Learning Rate: 0.007000\n",
      "Epoch 15/200:\n",
      "  Loss: 0.4481\n",
      "  Validation Accuracy: 0.8526\n",
      "  Learning Rate: 0.007000\n",
      "Epoch 16/200:\n",
      "  Loss: 0.4519\n",
      "  Validation Accuracy: 0.8526\n",
      "  Learning Rate: 0.007000\n",
      "Epoch 17/200:\n",
      "  Loss: 0.4450\n",
      "  Validation Accuracy: 0.8526\n",
      "  Learning Rate: 0.007000\n",
      "Early stopping triggered after 17 epochs\n",
      "Final Test Accuracy: 0.7969\n"
     ]
    }
   ],
   "source": [
    "trainer = Trainer(f'{base_data_dir}/models/', data, device, masks, batch_size=batch_size)\n",
    "trainer.train(model, criterion, optimizer)"
   ]
  },
  {
   "cell_type": "code",
   "execution_count": 8,
   "id": "bdb07cd1ddb38bce",
   "metadata": {},
   "outputs": [],
   "source": [
    "# TODO hyperparameter tuning\n",
    "# TODO visualize results"
   ]
  }
 ],
 "metadata": {
  "kernelspec": {
   "display_name": "FleetPy",
   "language": "python",
   "name": "python3"
  },
  "language_info": {
   "codemirror_mode": {
    "name": "ipython",
    "version": 3
   },
   "file_extension": ".py",
   "mimetype": "text/x-python",
   "name": "python",
   "nbconvert_exporter": "python",
   "pygments_lexer": "ipython3",
   "version": "3.10.17"
  }
 },
 "nbformat": 4,
 "nbformat_minor": 5
}
