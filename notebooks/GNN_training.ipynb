{
 "cells": [
  {
   "cell_type": "markdown",
   "id": "2c83d186",
   "metadata": {},
   "source": [
    "# GNN Training (Fixed Version)"
   ]
  },
  {
   "cell_type": "code",
   "execution_count": 1,
   "id": "925f3af6",
   "metadata": {},
   "outputs": [],
   "source": [
    "import os\n",
    "import torch\n",
    "import gc\n",
    "from tqdm import tqdm\n",
    "\n",
    "from gnn_model.HeteroGAT import HeteroGAT\n",
    "from gnn_model.trainer import Trainer\n",
    "from data_processing.data_loader import DataLoader\n",
    "from data_processing.config import DataProcessingConfig"
   ]
  },
  {
   "cell_type": "markdown",
   "id": "d7bc1902",
   "metadata": {},
   "source": [
    "## Data Preparation"
   ]
  },
  {
   "cell_type": "code",
   "execution_count": 2,
   "id": "3592688e",
   "metadata": {},
   "outputs": [],
   "source": [
    "# Scenarios\n",
    "results_dir = os.path.join('..', 'studies', 'manhattan_case_study', 'results')\n",
    "scenario_names = ['gnn_ex1', # 'gnn_ex2', 'gnn_ex3', 'gnn_ex4'\n",
    "                  ]\n",
    "scenarios = [os.path.join(results_dir, sc) for sc in scenario_names]\n",
    "\n",
    "# Create config\n",
    "config = DataProcessingConfig(\n",
    "    sim_duration=86400,\n",
    ")\n",
    "\n",
    "# Set to True only when data needs to be reprocessed\n",
    "overwrite = True"
   ]
  },
  {
   "cell_type": "code",
   "execution_count": null,
   "id": "bcca3977",
   "metadata": {},
   "outputs": [
    {
     "name": "stderr",
     "output_type": "stream",
     "text": [
      "  0%|          | 0/1 [00:00<?, ?it/s]"
     ]
    },
    {
     "name": "stdout",
     "output_type": "stream",
     "text": [
      "Error processing timestep 44460: 3261462\n",
      "Failed timesteps: [44460]\n"
     ]
    }
   ],
   "source": [
    "# Safe data loading with error handling\n",
    "def load_data_safely():\n",
    "    try:\n",
    "        gc.collect()  # Clean up memory before loading\n",
    "        torch.cuda.empty_cache()  # Clear GPU cache if available\n",
    "        \n",
    "        loader = DataLoader(scenarios, config, overwrite=overwrite)\n",
    "        data, masks = loader.load_data()\n",
    "        \n",
    "        # Validate loaded data\n",
    "        if not data or len(data) == 0:\n",
    "            raise ValueError(\"No data was loaded\")\n",
    "            \n",
    "        return data, masks\n",
    "    except Exception as e:\n",
    "        print(f\"Error loading data: {str(e)}\")\n",
    "        return None, None\n",
    "\n",
    "data, masks = load_data_safely()"
   ]
  },
  {
   "cell_type": "code",
   "execution_count": null,
   "id": "534f682f",
   "metadata": {},
   "outputs": [
    {
     "name": "stdout",
     "output_type": "stream",
     "text": [
      "Successfully loaded 2879 data points\n"
     ]
    },
    {
     "ename": "TypeError",
     "evalue": "list indices must be integers or slices, not str",
     "output_type": "error",
     "traceback": [
      "\u001b[0;31m---------------------------------------------------------------------------\u001b[0m",
      "\u001b[0;31mTypeError\u001b[0m                                 Traceback (most recent call last)",
      "Cell \u001b[0;32mIn[6], line 4\u001b[0m\n\u001b[1;32m      2\u001b[0m \u001b[38;5;28;01mif\u001b[39;00m data \u001b[38;5;129;01mis\u001b[39;00m \u001b[38;5;129;01mnot\u001b[39;00m \u001b[38;5;28;01mNone\u001b[39;00m:\n\u001b[1;32m      3\u001b[0m     \u001b[38;5;28mprint\u001b[39m(\u001b[38;5;124mf\u001b[39m\u001b[38;5;124m\"\u001b[39m\u001b[38;5;124mSuccessfully loaded \u001b[39m\u001b[38;5;132;01m{\u001b[39;00m\u001b[38;5;28mlen\u001b[39m(data)\u001b[38;5;132;01m}\u001b[39;00m\u001b[38;5;124m data points\u001b[39m\u001b[38;5;124m\"\u001b[39m)\n\u001b[0;32m----> 4\u001b[0m     \u001b[38;5;28mprint\u001b[39m(\u001b[38;5;124mf\u001b[39m\u001b[38;5;124m\"\u001b[39m\u001b[38;5;124mTrain/Val/Test split: \u001b[39m\u001b[38;5;132;01m{\u001b[39;00m\u001b[38;5;28msum\u001b[39m(\u001b[43mmasks\u001b[49m\u001b[43m[\u001b[49m\u001b[38;5;124;43m'\u001b[39;49m\u001b[38;5;124;43mtrain\u001b[39;49m\u001b[38;5;124;43m'\u001b[39;49m\u001b[43m]\u001b[49m)\u001b[38;5;132;01m}\u001b[39;00m\u001b[38;5;124m/\u001b[39m\u001b[38;5;132;01m{\u001b[39;00m\u001b[38;5;28msum\u001b[39m(masks[\u001b[38;5;124m'\u001b[39m\u001b[38;5;124mval\u001b[39m\u001b[38;5;124m'\u001b[39m])\u001b[38;5;132;01m}\u001b[39;00m\u001b[38;5;124m/\u001b[39m\u001b[38;5;132;01m{\u001b[39;00m\u001b[38;5;28msum\u001b[39m(masks[\u001b[38;5;124m'\u001b[39m\u001b[38;5;124mtest\u001b[39m\u001b[38;5;124m'\u001b[39m])\u001b[38;5;132;01m}\u001b[39;00m\u001b[38;5;124m\"\u001b[39m)\n\u001b[1;32m      5\u001b[0m \u001b[38;5;28;01melse\u001b[39;00m:\n\u001b[1;32m      6\u001b[0m     \u001b[38;5;28mprint\u001b[39m(\u001b[38;5;124m\"\u001b[39m\u001b[38;5;124mFailed to load data. Please check the error message above.\u001b[39m\u001b[38;5;124m\"\u001b[39m)\n",
      "\u001b[0;31mTypeError\u001b[0m: list indices must be integers or slices, not str"
     ]
    }
   ],
   "source": [
    "# Validate loaded data\n",
    "if data is not None:\n",
    "    print(f\"Successfully loaded {len(data)} data points\")\n",
    "    print(f\"Train/Val/Test split: {sum(masks['train'])}/{sum(masks['val'])}/{sum(masks['test'])}\")\n",
    "else:\n",
    "    print(\"Failed to load data. Please check the error message above.\")"
   ]
  },
  {
   "cell_type": "markdown",
   "id": "49a82309",
   "metadata": {},
   "source": [
    "## Model Setup"
   ]
  },
  {
   "cell_type": "code",
   "execution_count": null,
   "id": "7e2a7cad",
   "metadata": {},
   "outputs": [],
   "source": [
    "# Model parameters\n",
    "num_classes = 2\n",
    "hidden_channels = 64\n",
    "epochs = 200\n",
    "batch_size = 32\n",
    "\n",
    "# Device setup\n",
    "device = torch.device('cuda' if torch.cuda.is_available() else 'cpu')\n",
    "print(f\"Using device: {device}\")"
   ]
  },
  {
   "cell_type": "code",
   "execution_count": null,
   "id": "82047224",
   "metadata": {},
   "outputs": [],
   "source": [
    "# Initialize model with error handling\n",
    "try:\n",
    "    model = HeteroGAT(hidden_channels, num_classes).to(device=device)\n",
    "    print(\"Model initialized successfully\")\n",
    "except Exception as e:\n",
    "    print(f\"Error initializing model: {str(e)}\")"
   ]
  },
  {
   "cell_type": "code",
   "execution_count": null,
   "id": "294010f8",
   "metadata": {},
   "outputs": [],
   "source": [
    "# Training setup\n",
    "criterion = torch.nn.BCELoss()\n",
    "optimizer = torch.optim.Adam(model.parameters(), lr=0.01)\n",
    "\n",
    "# Initialize trainer with error handling\n",
    "if data is not None and model is not None:\n",
    "    try:\n",
    "        trainer = Trainer(data, device, masks, config, batch_size=batch_size)\n",
    "        print(\"Trainer initialized successfully\")\n",
    "    except Exception as e:\n",
    "        print(f\"Error initializing trainer: {str(e)}\")"
   ]
  },
  {
   "cell_type": "code",
   "execution_count": null,
   "id": "c0fb3e42",
   "metadata": {},
   "outputs": [],
   "source": [
    "# Training with progress tracking and error handling\n",
    "if 'trainer' in locals():\n",
    "    try:\n",
    "        trainer.train(model, criterion, optimizer)\n",
    "    except Exception as e:\n",
    "        print(f\"Error during training: {str(e)}\")\n",
    "else:\n",
    "    print(\"Trainer not initialized. Cannot proceed with training.\")"
   ]
  }
 ],
 "metadata": {
  "kernelspec": {
   "display_name": "fleetpy",
   "language": "python",
   "name": "python3"
  },
  "language_info": {
   "codemirror_mode": {
    "name": "ipython",
    "version": 3
   },
   "file_extension": ".py",
   "mimetype": "text/x-python",
   "name": "python",
   "nbconvert_exporter": "python",
   "pygments_lexer": "ipython3",
   "version": "3.10.16"
  }
 },
 "nbformat": 4,
 "nbformat_minor": 5
}
