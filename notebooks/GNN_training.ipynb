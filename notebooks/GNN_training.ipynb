{
 "cells": [
  {
   "metadata": {},
   "cell_type": "markdown",
   "source": "# GNN Training",
   "id": "344fea2b62d6fb53"
  },
  {
   "metadata": {},
   "cell_type": "markdown",
   "source": "## Data Preparation",
   "id": "3b0a336e3d098fff"
  },
  {
   "cell_type": "code",
   "id": "initial_id",
   "metadata": {
    "collapsed": true,
    "ExecuteTime": {
     "end_time": "2025-02-13T17:28:24.114609Z",
     "start_time": "2025-02-13T17:28:22.143171Z"
    }
   },
   "source": [
    "import os\n",
    "import pandas as pd\n",
    "\n",
    "import torch\n",
    "from torch_geometric.data import HeteroData\n",
    "from torch_geometric.loader import DataLoader\n",
    "from torch_geometric.nn import to_hetero\n",
    "\n",
    "from GNN_model.GCN_model import GCN\n",
    "from GNN_model.trainer import Trainer\n",
    "\n",
    "from sklearn.model_selection import train_test_split"
   ],
   "outputs": [],
   "execution_count": 1
  },
  {
   "metadata": {
    "ExecuteTime": {
     "end_time": "2025-02-13T17:28:24.119216Z",
     "start_time": "2025-02-13T17:28:24.117252Z"
    }
   },
   "cell_type": "code",
   "source": [
    "def load_data(data_dir):\n",
    "    data = {}\n",
    "    for file in os.scandir(data_dir):\n",
    "        if not file.name.endswith('.csv'):\n",
    "            continue\n",
    "        with open(file, 'r') as f:\n",
    "            file_name = file.name[:file.name.find('.')]\n",
    "            data[file_name] = pd.read_csv(f)\n",
    "    return data"
   ],
   "id": "691aaa92663df610",
   "outputs": [],
   "execution_count": 2
  },
  {
   "metadata": {
    "ExecuteTime": {
     "end_time": "2025-02-13T17:28:24.211824Z",
     "start_time": "2025-02-13T17:28:24.208457Z"
    }
   },
   "cell_type": "code",
   "source": [
    "def split_data_to_separate_graphs(data):\n",
    "    max_timestep = data['req_features']['timestep'].max()\n",
    "    split_data = [HeteroData() for _ in range(max_timestep+1)]\n",
    "    for name, add_feats_fn in zip(['req_features', 'veh_features', 'rr_graph', 'vr_graph'], [add_r_features, add_v_features, add_rr_edge_data, add_vr_edge_data]):\n",
    "        grouped = data[name].groupby('timestep')\n",
    "        for timestep, rows in grouped:\n",
    "            add_feats_fn(rows, split_data[timestep])\n",
    "    return split_data\n",
    "\n",
    "def add_r_features(rows, hdata):\n",
    "    new_rows = pd.get_dummies(columns=['status'], data=rows, dtype=int)\n",
    "    hdata['request'].x = torch.tensor(new_rows.values)\n",
    "\n",
    "def add_v_features(rows, hdata):\n",
    "    new_rows = pd.get_dummies(columns=['type'], data=rows, dtype=int)\n",
    "    hdata['vehicle'].x = torch.tensor(new_rows.values)\n",
    "\n",
    "def add_rr_edge_data(rows, hdata):\n",
    "    hdata['request', 'connects', 'request'].edge_index = [torch.tensor(rows['source'].values), torch.tensor(rows['target'].values)]\n",
    "    hdata['request', 'connects', 'request'].y = torch.tensor(rows['label'].values)\n",
    "    hdata['request', 'connects', 'request'].edge_attr = torch.tensor(rows.drop(columns=['source', 'target', 'label']).values)\n",
    "\n",
    "def add_vr_edge_data(rows, hdata):\n",
    "    hdata['vehicle', 'connects', 'request'].edge_index = [torch.tensor(rows['source'].values), torch.tensor(rows['target'].values)]\n",
    "    hdata['vehicle', 'connects', 'request'].y = torch.tensor(rows['label'].values)\n",
    "    hdata['vehicle', 'connects', 'request'].edge_attr = torch.tensor(rows.drop(columns=['source', 'target', 'label']).values)\n"
   ],
   "id": "8a751b1c038a2a60",
   "outputs": [],
   "execution_count": 3
  },
  {
   "metadata": {
    "ExecuteTime": {
     "end_time": "2025-02-13T17:28:24.326964Z",
     "start_time": "2025-02-13T17:28:24.215120Z"
    }
   },
   "cell_type": "code",
   "source": [
    "base_data_dir = 'data/example_pool_sc_1/'\n",
    "data = load_data(f'{base_data_dir}processed/')\n",
    "data = split_data_to_separate_graphs(data)\n",
    "# todo normalize features"
   ],
   "id": "51a17ba350a5fbd1",
   "outputs": [],
   "execution_count": 4
  },
  {
   "metadata": {
    "ExecuteTime": {
     "end_time": "2025-02-13T17:28:24.464757Z",
     "start_time": "2025-02-13T17:28:24.331188Z"
    }
   },
   "cell_type": "code",
   "source": [
    "# TODO split data into training and testing\n",
    "def get_tensor(size, flag):\n",
    "    if flag:\n",
    "        return torch.ones(size, dtype=torch.bool)\n",
    "    else:\n",
    "        return torch.zeros(size, dtype=torch.bool)\n",
    "\n",
    "indices = list(range(len(data)))\n",
    "train_idx, test_idx = train_test_split(indices, test_size=.2)\n",
    "train_idx, val_idx = train_test_split(train_idx, test_size=.1)\n",
    "for i in range(len(data)):\n",
    "    size = len(data[i].edge_index_dict)\n",
    "    data[i].train_mask = get_tensor(size, i in train_idx)\n",
    "    data[i].val_mask = get_tensor(size, i in val_idx)\n",
    "    data[i].test_mask = get_tensor(size, i in test_idx)"
   ],
   "id": "68ced7e120697f7f",
   "outputs": [
    {
     "ename": "KeyError",
     "evalue": "\"Tried to collect 'edge_index' but did not find any occurrences of it in any node and/or edge type\"",
     "output_type": "error",
     "traceback": [
      "\u001B[0;31m---------------------------------------------------------------------------\u001B[0m",
      "\u001B[0;31mKeyError\u001B[0m                                  Traceback (most recent call last)",
      "Cell \u001B[0;32mIn[5], line 12\u001B[0m\n\u001B[1;32m     10\u001B[0m train_idx, val_idx \u001B[38;5;241m=\u001B[39m train_test_split(train_idx, test_size\u001B[38;5;241m=\u001B[39m\u001B[38;5;241m.1\u001B[39m)\n\u001B[1;32m     11\u001B[0m \u001B[38;5;28;01mfor\u001B[39;00m i \u001B[38;5;129;01min\u001B[39;00m \u001B[38;5;28mrange\u001B[39m(\u001B[38;5;28mlen\u001B[39m(data)):\n\u001B[0;32m---> 12\u001B[0m     size \u001B[38;5;241m=\u001B[39m \u001B[38;5;28mlen\u001B[39m(\u001B[43mdata\u001B[49m\u001B[43m[\u001B[49m\u001B[43mi\u001B[49m\u001B[43m]\u001B[49m\u001B[38;5;241;43m.\u001B[39;49m\u001B[43medge_index_dict\u001B[49m)\n\u001B[1;32m     13\u001B[0m     data[i]\u001B[38;5;241m.\u001B[39mtrain_mask \u001B[38;5;241m=\u001B[39m get_tensor(size, i \u001B[38;5;129;01min\u001B[39;00m train_idx)\n\u001B[1;32m     14\u001B[0m     data[i]\u001B[38;5;241m.\u001B[39mval_mask \u001B[38;5;241m=\u001B[39m get_tensor(size, i \u001B[38;5;129;01min\u001B[39;00m val_idx)\n",
      "File \u001B[0;32m~/Documents/Tools/Anaconda/envs/fleetpy/lib/python3.11/site-packages/torch_geometric/data/hetero_data.py:161\u001B[0m, in \u001B[0;36mHeteroData.__getattr__\u001B[0;34m(self, key)\u001B[0m\n\u001B[1;32m    159\u001B[0m     \u001B[38;5;28;01mreturn\u001B[39;00m \u001B[38;5;28mgetattr\u001B[39m(\u001B[38;5;28mself\u001B[39m\u001B[38;5;241m.\u001B[39m_global_store, key)\n\u001B[1;32m    160\u001B[0m \u001B[38;5;28;01melif\u001B[39;00m \u001B[38;5;28mbool\u001B[39m(re\u001B[38;5;241m.\u001B[39msearch(\u001B[38;5;124m'\u001B[39m\u001B[38;5;124m_dict$\u001B[39m\u001B[38;5;124m'\u001B[39m, key)):\n\u001B[0;32m--> 161\u001B[0m     \u001B[38;5;28;01mreturn\u001B[39;00m \u001B[38;5;28;43mself\u001B[39;49m\u001B[38;5;241;43m.\u001B[39;49m\u001B[43mcollect\u001B[49m\u001B[43m(\u001B[49m\u001B[43mkey\u001B[49m\u001B[43m[\u001B[49m\u001B[43m:\u001B[49m\u001B[38;5;241;43m-\u001B[39;49m\u001B[38;5;241;43m5\u001B[39;49m\u001B[43m]\u001B[49m\u001B[43m)\u001B[49m\n\u001B[1;32m    162\u001B[0m \u001B[38;5;28;01mraise\u001B[39;00m \u001B[38;5;167;01mAttributeError\u001B[39;00m(\u001B[38;5;124mf\u001B[39m\u001B[38;5;124m\"\u001B[39m\u001B[38;5;124m'\u001B[39m\u001B[38;5;132;01m{\u001B[39;00m\u001B[38;5;28mself\u001B[39m\u001B[38;5;241m.\u001B[39m\u001B[38;5;18m__class__\u001B[39m\u001B[38;5;241m.\u001B[39m\u001B[38;5;18m__name__\u001B[39m\u001B[38;5;132;01m}\u001B[39;00m\u001B[38;5;124m'\u001B[39m\u001B[38;5;124m has no \u001B[39m\u001B[38;5;124m\"\u001B[39m\n\u001B[1;32m    163\u001B[0m                      \u001B[38;5;124mf\u001B[39m\u001B[38;5;124m\"\u001B[39m\u001B[38;5;124mattribute \u001B[39m\u001B[38;5;124m'\u001B[39m\u001B[38;5;132;01m{\u001B[39;00mkey\u001B[38;5;132;01m}\u001B[39;00m\u001B[38;5;124m'\u001B[39m\u001B[38;5;124m\"\u001B[39m)\n",
      "File \u001B[0;32m~/Documents/Tools/Anaconda/envs/fleetpy/lib/python3.11/site-packages/torch_geometric/data/hetero_data.py:565\u001B[0m, in \u001B[0;36mHeteroData.collect\u001B[0;34m(self, key, allow_empty)\u001B[0m\n\u001B[1;32m    563\u001B[0m         mapping[subtype] \u001B[38;5;241m=\u001B[39m \u001B[38;5;28mgetattr\u001B[39m(store, key)\n\u001B[1;32m    564\u001B[0m \u001B[38;5;28;01mif\u001B[39;00m \u001B[38;5;129;01mnot\u001B[39;00m allow_empty \u001B[38;5;129;01mand\u001B[39;00m \u001B[38;5;28mlen\u001B[39m(mapping) \u001B[38;5;241m==\u001B[39m \u001B[38;5;241m0\u001B[39m:\n\u001B[0;32m--> 565\u001B[0m     \u001B[38;5;28;01mraise\u001B[39;00m \u001B[38;5;167;01mKeyError\u001B[39;00m(\u001B[38;5;124mf\u001B[39m\u001B[38;5;124m\"\u001B[39m\u001B[38;5;124mTried to collect \u001B[39m\u001B[38;5;124m'\u001B[39m\u001B[38;5;132;01m{\u001B[39;00mkey\u001B[38;5;132;01m}\u001B[39;00m\u001B[38;5;124m'\u001B[39m\u001B[38;5;124m but did not find any \u001B[39m\u001B[38;5;124m\"\u001B[39m\n\u001B[1;32m    566\u001B[0m                    \u001B[38;5;124mf\u001B[39m\u001B[38;5;124m\"\u001B[39m\u001B[38;5;124moccurrences of it in any node and/or edge type\u001B[39m\u001B[38;5;124m\"\u001B[39m)\n\u001B[1;32m    567\u001B[0m \u001B[38;5;28;01mreturn\u001B[39;00m mapping\n",
      "\u001B[0;31mKeyError\u001B[0m: \"Tried to collect 'edge_index' but did not find any occurrences of it in any node and/or edge type\""
     ]
    }
   ],
   "execution_count": 5
  },
  {
   "metadata": {
    "ExecuteTime": {
     "end_time": "2025-02-13T17:28:24.466291Z",
     "start_time": "2025-02-13T17:18:05.018906Z"
    }
   },
   "cell_type": "code",
   "source": "loader = DataLoader(data, batch_size=32, shuffle=True)",
   "id": "f5fd8daedba7230d",
   "outputs": [],
   "execution_count": 17
  },
  {
   "metadata": {
    "ExecuteTime": {
     "end_time": "2025-02-13T17:28:24.470348Z",
     "start_time": "2025-02-13T17:18:05.024739Z"
    }
   },
   "cell_type": "code",
   "source": "torch.save(data, f'{base_data_dir}processed/graph_data.pt')",
   "id": "b9b5d9e258b03216",
   "outputs": [],
   "execution_count": 18
  },
  {
   "metadata": {},
   "cell_type": "markdown",
   "source": "## Model",
   "id": "37afbea9e90fcef8"
  },
  {
   "metadata": {
    "ExecuteTime": {
     "end_time": "2025-02-13T17:28:24.471553Z",
     "start_time": "2025-02-13T17:18:05.048210Z"
    }
   },
   "cell_type": "code",
   "source": [
    "num_classes = 2\n",
    "hidden_channels = 4\n",
    "epochs = 200"
   ],
   "id": "fe5582668e15baea",
   "outputs": [],
   "execution_count": 19
  },
  {
   "metadata": {
    "ExecuteTime": {
     "end_time": "2025-02-13T17:28:24.471890Z",
     "start_time": "2025-02-13T17:18:05.056963Z"
    }
   },
   "cell_type": "code",
   "source": [
    "# TODO device\n",
    "# device = torch.device('cuda' if torch.cuda.is_available() else 'cpu')"
   ],
   "id": "9605537129671814",
   "outputs": [],
   "execution_count": 20
  },
  {
   "metadata": {
    "ExecuteTime": {
     "end_time": "2025-02-13T17:28:24.472621Z",
     "start_time": "2025-02-13T17:18:05.061384Z"
    }
   },
   "cell_type": "code",
   "source": "model = GCN(hidden_channels=hidden_channels, out_channels=num_classes)  #.to(device=device)",
   "id": "68e68bc9e24dab3f",
   "outputs": [],
   "execution_count": 21
  },
  {
   "metadata": {
    "ExecuteTime": {
     "end_time": "2025-02-13T17:28:24.473236Z",
     "start_time": "2025-02-13T17:24:29.422343Z"
    }
   },
   "cell_type": "code",
   "source": "model = to_hetero(model, data[10].metadata(), aggr='sum')",
   "id": "928078708881f6e1",
   "outputs": [
    {
     "name": "stderr",
     "output_type": "stream",
     "text": [
      "/Users/hoda_hamdy/Documents/Tools/Anaconda/envs/fleetpy/lib/python3.11/site-packages/torch_geometric/nn/to_hetero_transformer.py:156: UserWarning: There exist node types ({'vehicle'}) whose representations do not get updated during message passing as they do not occur as destination type in any edge type. This may lead to unexpected behavior.\n",
      "  warnings.warn(\n",
      "/Users/hoda_hamdy/Documents/Tools/Anaconda/envs/fleetpy/lib/python3.11/site-packages/torch_geometric/nn/fx.py:132: UserWarning: Found function 'dropout' with keyword argument 'training'. During FX tracing, this will likely be baked in as a constant value. Consider replacing this function by a module to properly encapsulate its training flag.\n",
      "  warnings.warn(f\"Found function '{node.name}' with keyword \"\n"
     ]
    },
    {
     "ename": "ValueError",
     "evalue": "'add_self_loops' attribute set to 'True' on module 'GCNConv(-1, 4)' for use with edge type(s) '[('request', 'connects', 'request'), ('vehicle', 'connects', 'request')]'. This will lead to incorrect message passing results.",
     "output_type": "error",
     "traceback": [
      "\u001B[0;31m---------------------------------------------------------------------------\u001B[0m",
      "\u001B[0;31mValueError\u001B[0m                                Traceback (most recent call last)",
      "Cell \u001B[0;32mIn[32], line 1\u001B[0m\n\u001B[0;32m----> 1\u001B[0m model \u001B[38;5;241m=\u001B[39m \u001B[43mto_hetero\u001B[49m\u001B[43m(\u001B[49m\u001B[43mmodel\u001B[49m\u001B[43m,\u001B[49m\u001B[43m \u001B[49m\u001B[43mdata\u001B[49m\u001B[43m[\u001B[49m\u001B[38;5;241;43m10\u001B[39;49m\u001B[43m]\u001B[49m\u001B[38;5;241;43m.\u001B[39;49m\u001B[43mmetadata\u001B[49m\u001B[43m(\u001B[49m\u001B[43m)\u001B[49m\u001B[43m,\u001B[49m\u001B[43m \u001B[49m\u001B[43maggr\u001B[49m\u001B[38;5;241;43m=\u001B[39;49m\u001B[38;5;124;43m'\u001B[39;49m\u001B[38;5;124;43msum\u001B[39;49m\u001B[38;5;124;43m'\u001B[39;49m\u001B[43m)\u001B[49m\n",
      "File \u001B[0;32m~/Documents/Tools/Anaconda/envs/fleetpy/lib/python3.11/site-packages/torch_geometric/nn/to_hetero_transformer.py:120\u001B[0m, in \u001B[0;36mto_hetero\u001B[0;34m(module, metadata, aggr, input_map, debug)\u001B[0m\n\u001B[1;32m     30\u001B[0m \u001B[38;5;250m\u001B[39m\u001B[38;5;124mr\u001B[39m\u001B[38;5;124;03m\"\"\"Converts a homogeneous GNN model into its heterogeneous equivalent in\u001B[39;00m\n\u001B[1;32m     31\u001B[0m \u001B[38;5;124;03mwhich node representations are learned for each node type in\u001B[39;00m\n\u001B[1;32m     32\u001B[0m \u001B[38;5;124;03m:obj:`metadata[0]`, and messages are exchanged between each edge type in\u001B[39;00m\n\u001B[0;32m   (...)\u001B[0m\n\u001B[1;32m    117\u001B[0m \u001B[38;5;124;03m        transformation in debug mode. (default: :obj:`False`)\u001B[39;00m\n\u001B[1;32m    118\u001B[0m \u001B[38;5;124;03m\"\"\"\u001B[39;00m\n\u001B[1;32m    119\u001B[0m transformer \u001B[38;5;241m=\u001B[39m ToHeteroTransformer(module, metadata, aggr, input_map, debug)\n\u001B[0;32m--> 120\u001B[0m \u001B[38;5;28;01mreturn\u001B[39;00m \u001B[43mtransformer\u001B[49m\u001B[38;5;241;43m.\u001B[39;49m\u001B[43mtransform\u001B[49m\u001B[43m(\u001B[49m\u001B[43m)\u001B[49m\n",
      "File \u001B[0;32m~/Documents/Tools/Anaconda/envs/fleetpy/lib/python3.11/site-packages/torch_geometric/nn/fx.py:165\u001B[0m, in \u001B[0;36mTransformer.transform\u001B[0;34m(self)\u001B[0m\n\u001B[1;32m    163\u001B[0m     \u001B[38;5;28;01melif\u001B[39;00m is_global_pooling_op(\u001B[38;5;28mself\u001B[39m\u001B[38;5;241m.\u001B[39mmodule, op, node\u001B[38;5;241m.\u001B[39mtarget):\n\u001B[1;32m    164\u001B[0m         op \u001B[38;5;241m=\u001B[39m \u001B[38;5;124m'\u001B[39m\u001B[38;5;124mcall_global_pooling_module\u001B[39m\u001B[38;5;124m'\u001B[39m\n\u001B[0;32m--> 165\u001B[0m     \u001B[38;5;28;43mgetattr\u001B[39;49m\u001B[43m(\u001B[49m\u001B[38;5;28;43mself\u001B[39;49m\u001B[43m,\u001B[49m\u001B[43m \u001B[49m\u001B[43mop\u001B[49m\u001B[43m)\u001B[49m\u001B[43m(\u001B[49m\u001B[43mnode\u001B[49m\u001B[43m,\u001B[49m\u001B[43m \u001B[49m\u001B[43mnode\u001B[49m\u001B[38;5;241;43m.\u001B[39;49m\u001B[43mtarget\u001B[49m\u001B[43m,\u001B[49m\u001B[43m \u001B[49m\u001B[43mnode\u001B[49m\u001B[38;5;241;43m.\u001B[39;49m\u001B[43mname\u001B[49m\u001B[43m)\u001B[49m\n\u001B[1;32m    167\u001B[0m \u001B[38;5;66;03m# Remove all unused nodes in the computation graph, i.e., all nodes\u001B[39;00m\n\u001B[1;32m    168\u001B[0m \u001B[38;5;66;03m# which have been replaced by node type-wise or edge type-wise variants\u001B[39;00m\n\u001B[1;32m    169\u001B[0m \u001B[38;5;66;03m# but which are still present in the computation graph.\u001B[39;00m\n\u001B[1;32m    170\u001B[0m \u001B[38;5;66;03m# We do this by iterating over the computation graph in reversed order,\u001B[39;00m\n\u001B[1;32m    171\u001B[0m \u001B[38;5;66;03m# and try to remove every node. This does only succeed in case there\u001B[39;00m\n\u001B[1;32m    172\u001B[0m \u001B[38;5;66;03m# are no users of that node left in the computation graph.\u001B[39;00m\n\u001B[1;32m    173\u001B[0m \u001B[38;5;28;01mfor\u001B[39;00m node \u001B[38;5;129;01min\u001B[39;00m \u001B[38;5;28mreversed\u001B[39m(\u001B[38;5;28mlist\u001B[39m(\u001B[38;5;28mself\u001B[39m\u001B[38;5;241m.\u001B[39mgraph\u001B[38;5;241m.\u001B[39mnodes)):\n",
      "File \u001B[0;32m~/Documents/Tools/Anaconda/envs/fleetpy/lib/python3.11/site-packages/torch_geometric/nn/to_hetero_transformer.py:198\u001B[0m, in \u001B[0;36mToHeteroTransformer.call_message_passing_module\u001B[0;34m(self, node, target, name)\u001B[0m\n\u001B[1;32m    193\u001B[0m \u001B[38;5;28;01mdef\u001B[39;00m \u001B[38;5;21mcall_message_passing_module\u001B[39m(\u001B[38;5;28mself\u001B[39m, node: Node, target: Any, name: \u001B[38;5;28mstr\u001B[39m):\n\u001B[1;32m    194\u001B[0m     \u001B[38;5;66;03m# Add calls to edge type-wise `MessagePassing` modules and aggregate\u001B[39;00m\n\u001B[1;32m    195\u001B[0m     \u001B[38;5;66;03m# the outputs to node type-wise embeddings afterwards.\u001B[39;00m\n\u001B[1;32m    197\u001B[0m     module \u001B[38;5;241m=\u001B[39m get_submodule(\u001B[38;5;28mself\u001B[39m\u001B[38;5;241m.\u001B[39mmodule, target)\n\u001B[0;32m--> 198\u001B[0m     \u001B[43mcheck_add_self_loops\u001B[49m\u001B[43m(\u001B[49m\u001B[43mmodule\u001B[49m\u001B[43m,\u001B[49m\u001B[43m \u001B[49m\u001B[38;5;28;43mself\u001B[39;49m\u001B[38;5;241;43m.\u001B[39;49m\u001B[43mmetadata\u001B[49m\u001B[43m[\u001B[49m\u001B[38;5;241;43m1\u001B[39;49m\u001B[43m]\u001B[49m\u001B[43m)\u001B[49m\n\u001B[1;32m    200\u001B[0m     \u001B[38;5;66;03m# Group edge-wise keys per destination:\u001B[39;00m\n\u001B[1;32m    201\u001B[0m     key_name, keys_per_dst \u001B[38;5;241m=\u001B[39m {}, defaultdict(\u001B[38;5;28mlist\u001B[39m)\n",
      "File \u001B[0;32m~/Documents/Tools/Anaconda/envs/fleetpy/lib/python3.11/site-packages/torch_geometric/utils/hetero.py:76\u001B[0m, in \u001B[0;36mcheck_add_self_loops\u001B[0;34m(module, edge_types)\u001B[0m\n\u001B[1;32m     74\u001B[0m is_bipartite \u001B[38;5;241m=\u001B[39m \u001B[38;5;28many\u001B[39m([key[\u001B[38;5;241m0\u001B[39m] \u001B[38;5;241m!=\u001B[39m key[\u001B[38;5;241m-\u001B[39m\u001B[38;5;241m1\u001B[39m] \u001B[38;5;28;01mfor\u001B[39;00m key \u001B[38;5;129;01min\u001B[39;00m edge_types])\n\u001B[1;32m     75\u001B[0m \u001B[38;5;28;01mif\u001B[39;00m is_bipartite \u001B[38;5;129;01mand\u001B[39;00m \u001B[38;5;28mgetattr\u001B[39m(module, \u001B[38;5;124m'\u001B[39m\u001B[38;5;124madd_self_loops\u001B[39m\u001B[38;5;124m'\u001B[39m, \u001B[38;5;28;01mFalse\u001B[39;00m):\n\u001B[0;32m---> 76\u001B[0m     \u001B[38;5;28;01mraise\u001B[39;00m \u001B[38;5;167;01mValueError\u001B[39;00m(\n\u001B[1;32m     77\u001B[0m         \u001B[38;5;124mf\u001B[39m\u001B[38;5;124m\"\u001B[39m\u001B[38;5;124m'\u001B[39m\u001B[38;5;124madd_self_loops\u001B[39m\u001B[38;5;124m'\u001B[39m\u001B[38;5;124m attribute set to \u001B[39m\u001B[38;5;124m'\u001B[39m\u001B[38;5;124mTrue\u001B[39m\u001B[38;5;124m'\u001B[39m\u001B[38;5;124m on module \u001B[39m\u001B[38;5;124m'\u001B[39m\u001B[38;5;132;01m{\u001B[39;00mmodule\u001B[38;5;132;01m}\u001B[39;00m\u001B[38;5;124m'\u001B[39m\u001B[38;5;124m \u001B[39m\u001B[38;5;124m\"\u001B[39m\n\u001B[1;32m     78\u001B[0m         \u001B[38;5;124mf\u001B[39m\u001B[38;5;124m\"\u001B[39m\u001B[38;5;124mfor use with edge type(s) \u001B[39m\u001B[38;5;124m'\u001B[39m\u001B[38;5;132;01m{\u001B[39;00medge_types\u001B[38;5;132;01m}\u001B[39;00m\u001B[38;5;124m'\u001B[39m\u001B[38;5;124m. This will lead to \u001B[39m\u001B[38;5;124m\"\u001B[39m\n\u001B[1;32m     79\u001B[0m         \u001B[38;5;124mf\u001B[39m\u001B[38;5;124m\"\u001B[39m\u001B[38;5;124mincorrect message passing results.\u001B[39m\u001B[38;5;124m\"\u001B[39m)\n",
      "\u001B[0;31mValueError\u001B[0m: 'add_self_loops' attribute set to 'True' on module 'GCNConv(-1, 4)' for use with edge type(s) '[('request', 'connects', 'request'), ('vehicle', 'connects', 'request')]'. This will lead to incorrect message passing results."
     ]
    }
   ],
   "execution_count": 32
  },
  {
   "metadata": {},
   "cell_type": "code",
   "outputs": [],
   "execution_count": null,
   "source": [
    "criterion = torch.nn.BCELoss()  # Define loss criterion.\n",
    "optimizer = torch.optim.Adam(model.parameters(), lr=0.01)  # Define optimizer."
   ],
   "id": "efe4626dbd72dfa4"
  },
  {
   "metadata": {},
   "cell_type": "code",
   "outputs": [],
   "execution_count": null,
   "source": [
    "with torch.no_grad():  # Initialize lazy modules.\n",
    "    out = model(data.x_dict, data.edge_index_dict)"
   ],
   "id": "924452937350eb67"
  },
  {
   "metadata": {},
   "cell_type": "code",
   "outputs": [],
   "execution_count": null,
   "source": [
    "trainer = Trainer(f'{base_data_dir}/models/')\n",
    "trainer.train(model, data, criterion, optimizer)"
   ],
   "id": "e34c1159b96f5d4a"
  },
  {
   "metadata": {},
   "cell_type": "code",
   "outputs": [],
   "execution_count": null,
   "source": [
    "# TODO hyperparameter tuning\n",
    "# TODO visualize results"
   ],
   "id": "bdb07cd1ddb38bce"
  }
 ],
 "metadata": {
  "kernelspec": {
   "display_name": "Python 3",
   "language": "python",
   "name": "python3"
  },
  "language_info": {
   "codemirror_mode": {
    "name": "ipython",
    "version": 2
   },
   "file_extension": ".py",
   "mimetype": "text/x-python",
   "name": "python",
   "nbconvert_exporter": "python",
   "pygments_lexer": "ipython2",
   "version": "2.7.6"
  }
 },
 "nbformat": 4,
 "nbformat_minor": 5
}
