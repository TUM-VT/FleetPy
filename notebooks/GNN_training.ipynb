{
 "cells": [
  {
   "cell_type": "markdown",
   "id": "2c83d186",
   "metadata": {},
   "source": [
    "# GNN Training"
   ]
  },
  {
   "cell_type": "code",
   "id": "925f3af6",
   "metadata": {
    "ExecuteTime": {
     "end_time": "2025-06-04T09:00:12.919510Z",
     "start_time": "2025-06-04T09:00:05.074525Z"
    }
   },
   "source": [
    "import os\n",
    "import torch\n",
    "import gc\n",
    "\n",
    "from gnn_model.HeteroGAT import HeteroGAT\n",
    "from gnn_model.trainer import Trainer\n",
    "from data_processing.data_loader import DataLoader\n",
    "from data_processing.config import DataProcessingConfig"
   ],
   "outputs": [],
   "execution_count": 2
  },
  {
   "cell_type": "markdown",
   "id": "d7bc1902",
   "metadata": {},
   "source": [
    "## Data Preparation"
   ]
  },
  {
   "cell_type": "code",
   "id": "3592688e",
   "metadata": {
    "ExecuteTime": {
     "end_time": "2025-06-04T09:00:12.929226Z",
     "start_time": "2025-06-04T09:00:12.927252Z"
    }
   },
   "source": [
    "# Scenarios\n",
    "case_study = 'GNN_study'\n",
    "results_dir = os.path.join('..', 'studies', case_study, 'results')\n",
    "scenario_names = [\n",
    "    # 'gnn_ex1', 'gnn_ex2', # 'gnn_ex3', 'gnn_ex4'\n",
    "           'example_pool_sc_1'       \n",
    "                  ]\n",
    "                  \n",
    "scenarios = [os.path.join(results_dir, sc) for sc in scenario_names]\n",
    "\n",
    "# Create config\n",
    "config = DataProcessingConfig(\n",
    "    sim_duration=7200,\n",
    ")\n",
    "\n",
    "# Set to True only when data needs to be reprocessed\n",
    "overwrite = True"
   ],
   "outputs": [],
   "execution_count": 3
  },
  {
   "cell_type": "code",
   "id": "b2413fbd",
   "metadata": {
    "ExecuteTime": {
     "end_time": "2025-06-04T09:00:12.951220Z",
     "start_time": "2025-06-04T09:00:12.939425Z"
    }
   },
   "source": [
    "# random seed for reproducibility\n",
    "torch.manual_seed(config.random_seed)"
   ],
   "outputs": [
    {
     "data": {
      "text/plain": [
       "<torch._C.Generator at 0x12d7b0b70>"
      ]
     },
     "execution_count": 4,
     "metadata": {},
     "output_type": "execute_result"
    }
   ],
   "execution_count": 4
  },
  {
   "cell_type": "code",
   "id": "bcca3977",
   "metadata": {
    "ExecuteTime": {
     "end_time": "2025-06-04T09:00:13.538746Z",
     "start_time": "2025-06-04T09:00:13.024786Z"
    }
   },
   "source": [
    "# Safe data loading with error handling\n",
    "def load_data_safely():\n",
    "    try:\n",
    "        gc.collect()  # Clean up memory before loading\n",
    "        torch.cuda.empty_cache()  # Clear GPU cache if available\n",
    "        \n",
    "        loader = DataLoader(scenarios, config, overwrite=overwrite)\n",
    "        data, *masks = loader.load_data()\n",
    "        \n",
    "        # Validate loaded data\n",
    "        if not data or len(data) == 0:\n",
    "            raise ValueError(\"No data was loaded\")\n",
    "            \n",
    "        return data, masks\n",
    "    except Exception as e:\n",
    "        print(f\"Error loading data: {str(e)}\")\n",
    "        return None, None\n",
    "\n",
    "data, masks = load_data_safely()\n",
    "train_masks, val_masks, test_masks = masks if masks else (None, None, None)"
   ],
   "outputs": [
    {
     "name": "stderr",
     "output_type": "stream",
     "text": [
      "100%|██████████| 1/1 [00:00<00:00,  2.31it/s]"
     ]
    },
    {
     "name": "stdout",
     "output_type": "stream",
     "text": [
      "Data split: Train=84, Val=18, Test=18\n"
     ]
    },
    {
     "name": "stderr",
     "output_type": "stream",
     "text": [
      "\n"
     ]
    }
   ],
   "execution_count": 5
  },
  {
   "cell_type": "code",
   "id": "534f682f",
   "metadata": {
    "ExecuteTime": {
     "end_time": "2025-06-04T09:00:13.562405Z",
     "start_time": "2025-06-04T09:00:13.557022Z"
    }
   },
   "source": [
    "# Validate loaded data\n",
    "if data is not None:\n",
    "    print(f\"Successfully loaded {len(data)} data points\")\n",
    "    print(f\"Train/Val/Test split: {sum(train_masks)}/{sum(val_masks)}/{sum(test_masks)}\")\n",
    "else:\n",
    "    print(\"Failed to load data. Please check the error message above.\")"
   ],
   "outputs": [
    {
     "name": "stdout",
     "output_type": "stream",
     "text": [
      "Successfully loaded 120 data points\n",
      "Train/Val/Test split: 84/18/18\n"
     ]
    }
   ],
   "execution_count": 6
  },
  {
   "cell_type": "markdown",
   "id": "49a82309",
   "metadata": {},
   "source": [
    "## Model Setup"
   ]
  },
  {
   "cell_type": "code",
   "id": "7e2a7cad",
   "metadata": {
    "ExecuteTime": {
     "end_time": "2025-06-04T09:00:13.585317Z",
     "start_time": "2025-06-04T09:00:13.582632Z"
    }
   },
   "source": [
    "# Model parameters\n",
    "num_classes = 1  # Changed to 1 for binary classification\n",
    "hidden_channels = 64\n",
    "epochs = 200\n",
    "batch_size = 32\n",
    "\n",
    "# Device setup\n",
    "device = torch.device('cuda' if torch.cuda.is_available() else 'cpu')\n",
    "print(f\"Using device: {device}\")"
   ],
   "outputs": [
    {
     "name": "stdout",
     "output_type": "stream",
     "text": [
      "Using device: cpu\n"
     ]
    }
   ],
   "execution_count": 7
  },
  {
   "cell_type": "code",
   "id": "82047224",
   "metadata": {
    "ExecuteTime": {
     "end_time": "2025-06-04T09:00:13.650088Z",
     "start_time": "2025-06-04T09:00:13.603302Z"
    }
   },
   "source": [
    "# Model parameters\n",
    "num_classes = 1  # Binary classification - single output logit with sigmoid activation\n",
    "hidden_channels = 64  # Size of hidden layers in GNN\n",
    "epochs = 200  # Maximum number of training epochs (may stop earlier due to early stopping)\n",
    "batch_size = 32  # Number of graphs per batch\n",
    "\n",
    "# Device setup\n",
    "device = torch.device('cuda' if torch.cuda.is_available() else 'cpu')\n",
    "print(f\"Using device: {device}\")\n",
    "\n",
    "# Initialize model with error handling\n",
    "model = HeteroGAT(hidden_channels, num_classes).to(device=device)\n",
    "print(f\"Model initialized with {hidden_channels} hidden channels and {num_classes} output channel\")"
   ],
   "outputs": [
    {
     "name": "stdout",
     "output_type": "stream",
     "text": [
      "Using device: cpu\n",
      "Model initialized with 64 hidden channels and 1 output channel\n"
     ]
    }
   ],
   "execution_count": 8
  },
  {
   "cell_type": "code",
   "id": "294010f8",
   "metadata": {
    "ExecuteTime": {
     "end_time": "2025-06-04T09:00:13.672440Z",
     "start_time": "2025-06-04T09:00:13.664451Z"
    }
   },
   "source": [
    "# Training setup with weighted BCE loss\n",
    "optimizer = torch.optim.Adam(model.parameters(), lr=0.01, weight_decay=1e-5)\n",
    "trainer = Trainer(data, device, masks, config, batch_size=batch_size)"
   ],
   "outputs": [
    {
     "name": "stdout",
     "output_type": "stream",
     "text": [
      "Filtered 3 empty graphs from dataset\n",
      "\n",
      "================================================================================\n",
      "Training Configuration\n",
      "--------------------------------------------------------------------------------\n",
      "Batch Size:          32\n",
      "Max Epochs:          200\n",
      "Device:              cpu\n",
      "Pos Weight:          4.0312\n",
      "--------------------------------------------------------------------------------\n"
     ]
    },
    {
     "name": "stderr",
     "output_type": "stream",
     "text": [
      "/Users/hoda_hamdy/Documents/Projects/fleetpy/FleetPy/notebooks/gnn_model/trainer.py:46: UserWarning: To copy construct from a tensor, it is recommended to use sourceTensor.detach().clone() or sourceTensor.detach().clone().requires_grad_(True), rather than torch.tensor(sourceTensor).\n",
      "  return torch.tensor(neg_pos_ratio, device=self.device)\n"
     ]
    }
   ],
   "execution_count": 9
  },
  {
   "cell_type": "code",
   "id": "c0fb3e42",
   "metadata": {
    "ExecuteTime": {
     "end_time": "2025-06-04T09:00:18.594464Z",
     "start_time": "2025-06-04T09:00:13.691984Z"
    }
   },
   "source": [
    "# Training with progress tracking and error handling\n",
    "try:\n",
    "    # Add numpy scalar to safe globals before training\n",
    "    import torch.serialization\n",
    "    torch.serialization.add_safe_globals(['numpy._core.multiarray.scalar'])\n",
    "    \n",
    "    # Start training\n",
    "    trainer.train(model, optimizer)\n",
    "except Exception as e:\n",
    "    print(f\"Error during training: {str(e)}\")\n",
    "    # Print more detailed error information\n",
    "    import traceback\n",
    "    traceback.print_exc()"
   ],
   "outputs": [
    {
     "name": "stdout",
     "output_type": "stream",
     "text": [
      "\n",
      "================================================================================\n",
      "Epoch 1/200\n",
      "--------------------------------------------------------------------------------\n",
      "Metric          Training        Validation     \n",
      "--------------------------------------------------------------------------------\n",
      "Loss            1.4401          -              \n",
      "Accuracy        0.2259          0.5932         \n",
      "F1              0.3271          0.3725         \n",
      "Precision       0.1977          0.2493         \n",
      "Recall          0.9468          0.7371         \n",
      "--------------------------------------------------------------------------------\n",
      "\n",
      "================================================================================\n",
      "Epoch 2/200\n",
      "--------------------------------------------------------------------------------\n",
      "Metric          Training        Validation     \n",
      "--------------------------------------------------------------------------------\n",
      "Loss            1.2586          -              \n",
      "Accuracy        0.2609          0.8227         \n",
      "F1              0.3346          0.2682         \n",
      "Precision       0.2038          0.4144         \n",
      "Recall          0.9352          0.1983         \n",
      "--------------------------------------------------------------------------------\n",
      "\n",
      "================================================================================\n",
      "Epoch 3/200\n",
      "--------------------------------------------------------------------------------\n",
      "Metric          Training        Validation     \n",
      "--------------------------------------------------------------------------------\n",
      "Loss            1.1559          -              \n",
      "Accuracy        0.3338          0.8362         \n",
      "F1              0.3397          0.0866         \n",
      "Precision       0.2115          0.5000         \n",
      "Recall          0.8623          0.0474         \n",
      "--------------------------------------------------------------------------------\n",
      "\n",
      "================================================================================\n",
      "Epoch 4/200\n",
      "--------------------------------------------------------------------------------\n",
      "Metric          Training        Validation     \n",
      "--------------------------------------------------------------------------------\n",
      "Loss            1.0971          -              \n",
      "Accuracy        0.4964          0.8362         \n",
      "F1              0.3690          0.0413         \n",
      "Precision       0.2457          0.5000         \n",
      "Recall          0.7407          0.0216         \n",
      "--------------------------------------------------------------------------------\n",
      "\n",
      "================================================================================\n",
      "Epoch 5/200\n",
      "--------------------------------------------------------------------------------\n",
      "Metric          Training        Validation     \n",
      "--------------------------------------------------------------------------------\n",
      "Loss            1.0966          -              \n",
      "Accuracy        0.5691          0.8362         \n",
      "F1              0.3649          0.0000         \n",
      "Precision       0.2580          0.0000         \n",
      "Recall          0.6227          0.0000         \n",
      "--------------------------------------------------------------------------------\n",
      "\n",
      "================================================================================\n",
      "Epoch 6/200\n",
      "--------------------------------------------------------------------------------\n",
      "Metric          Training        Validation     \n",
      "--------------------------------------------------------------------------------\n",
      "Loss            1.0617          -              \n",
      "Accuracy        0.6473          0.8362         \n",
      "F1              0.3781          0.0000         \n",
      "Precision       0.2911          0.0000         \n",
      "Recall          0.5394          0.0000         \n",
      "--------------------------------------------------------------------------------\n",
      "\n",
      "================================================================================\n",
      "Epoch 7/200\n",
      "--------------------------------------------------------------------------------\n",
      "Metric          Training        Validation     \n",
      "--------------------------------------------------------------------------------\n",
      "Loss            1.0765          -              \n",
      "Accuracy        0.6756          0.8362         \n",
      "F1              0.3810          0.0000         \n",
      "Precision       0.3069          0.0000         \n",
      "Recall          0.5023          0.0000         \n",
      "--------------------------------------------------------------------------------\n",
      "\n",
      "================================================================================\n",
      "Epoch 8/200\n",
      "--------------------------------------------------------------------------------\n",
      "Metric          Training        Validation     \n",
      "--------------------------------------------------------------------------------\n",
      "Loss            1.0487          -              \n",
      "Accuracy        0.7281          0.8362         \n",
      "F1              0.4131          0.0000         \n",
      "Precision       0.3617          0.0000         \n",
      "Recall          0.4815          0.0000         \n",
      "--------------------------------------------------------------------------------\n",
      "\n",
      "================================================================================\n",
      "Epoch 9/200\n",
      "--------------------------------------------------------------------------------\n",
      "Metric          Training        Validation     \n",
      "--------------------------------------------------------------------------------\n",
      "Loss            1.0492          -              \n",
      "Accuracy        0.7262          0.8383         \n",
      "F1              0.3978          0.0255         \n",
      "Precision       0.3534          1.0000         \n",
      "Recall          0.4549          0.0129         \n",
      "--------------------------------------------------------------------------------\n",
      "\n",
      "================================================================================\n",
      "Epoch 10/200\n",
      "--------------------------------------------------------------------------------\n",
      "Metric          Training        Validation     \n",
      "--------------------------------------------------------------------------------\n",
      "Loss            1.0467          -              \n",
      "Accuracy        0.7120          0.8376         \n",
      "F1              0.4061          0.0417         \n",
      "Precision       0.3441          0.6250         \n",
      "Recall          0.4954          0.0216         \n",
      "--------------------------------------------------------------------------------\n",
      "\n",
      "================================================================================\n",
      "Epoch 11/200\n",
      "--------------------------------------------------------------------------------\n",
      "Metric          Training        Validation     \n",
      "--------------------------------------------------------------------------------\n",
      "Loss            1.0477          -              \n",
      "Accuracy        0.6920          0.8312         \n",
      "F1              0.4073          0.0478         \n",
      "Precision       0.3297          0.3158         \n",
      "Recall          0.5324          0.0259         \n",
      "--------------------------------------------------------------------------------\n",
      "\n",
      "================================================================================\n",
      "Epoch 12/200\n",
      "--------------------------------------------------------------------------------\n",
      "Metric          Training        Validation     \n",
      "--------------------------------------------------------------------------------\n",
      "Loss            1.0230          -              \n",
      "Accuracy        0.6814          0.7931         \n",
      "F1              0.4217          0.2693         \n",
      "Precision       0.3298          0.3195         \n",
      "Recall          0.5845          0.2328         \n",
      "--------------------------------------------------------------------------------\n",
      "\n",
      "================================================================================\n",
      "Epoch 13/200\n",
      "--------------------------------------------------------------------------------\n",
      "Metric          Training        Validation     \n",
      "--------------------------------------------------------------------------------\n",
      "Loss            1.0034          -              \n",
      "Accuracy        0.6565          0.7175         \n",
      "F1              0.4152          0.2857         \n",
      "Precision       0.3138          0.2439         \n",
      "Recall          0.6134          0.3448         \n",
      "--------------------------------------------------------------------------------\n",
      "\n",
      "================================================================================\n",
      "Epoch 14/200\n",
      "--------------------------------------------------------------------------------\n",
      "Metric          Training        Validation     \n",
      "--------------------------------------------------------------------------------\n",
      "Loss            1.0122          -              \n",
      "Accuracy        0.6483          0.8107         \n",
      "F1              0.4117          0.2556         \n",
      "Precision       0.3084          0.3594         \n",
      "Recall          0.6192          0.1983         \n",
      "--------------------------------------------------------------------------------\n",
      "\n",
      "================================================================================\n",
      "Epoch 15/200\n",
      "--------------------------------------------------------------------------------\n",
      "Metric          Training        Validation     \n",
      "--------------------------------------------------------------------------------\n",
      "Loss            1.0091          -              \n",
      "Accuracy        0.6556          0.8369         \n",
      "F1              0.4240          0.1600         \n",
      "Precision       0.3176          0.5116         \n",
      "Recall          0.6377          0.0948         \n",
      "--------------------------------------------------------------------------------\n",
      "\n",
      "================================================================================\n",
      "Epoch 16/200\n",
      "--------------------------------------------------------------------------------\n",
      "Metric          Training        Validation     \n",
      "--------------------------------------------------------------------------------\n",
      "Loss            0.9797          -              \n",
      "Accuracy        0.6729          0.8383         \n",
      "F1              0.4384          0.1673         \n",
      "Precision       0.3327          0.5349         \n",
      "Recall          0.6424          0.0991         \n",
      "--------------------------------------------------------------------------------\n",
      "Early stopping triggered after 16 epochs\n",
      "\n",
      "================================================================================\n",
      "Final Test Results\n",
      "--------------------------------------------------------------------------------\n",
      "Metric          Score          \n",
      "--------------------------------------------------------------------------------\n",
      "Accuracy        0.6284         \n",
      "F1              0.4659         \n",
      "Precision       0.3365         \n",
      "Recall          0.7571         \n",
      "================================================================================\n"
     ]
    }
   ],
   "execution_count": 10
  },
  {
   "cell_type": "markdown",
   "id": "efe0e765",
   "metadata": {},
   "source": [
    "## Visualization\n",
    "\n",
    "Let's visualize a sample graph from our dataset and analyze model predictions."
   ]
  },
  {
   "cell_type": "markdown",
   "id": "9d029720",
   "metadata": {},
   "source": [
    "### Graph Visualization Functions\n",
    "\n",
    "The following cells implement visualization functionality for our heterogeneous graph neural network:\n",
    "\n",
    "1. Node visualization:\n",
    "   - Vehicles: red nodes\n",
    "   - Requests: turquoise nodes\n",
    "\n",
    "2. Edge visualization:\n",
    "   - True assignments: solid red lines\n",
    "   - Non-assignments: dotted gray lines\n",
    "   - Predicted assignments: semi-transparent blue lines (with probability scores)\n",
    "\n",
    "3. Additional features:\n",
    "   - Node labels (V for vehicles, R for requests)\n",
    "   - Edge probability labels for predicted assignments\n",
    "   - Comprehensive legend\n",
    "   - Force-directed layout for clear visualization"
   ]
  },
  {
   "cell_type": "code",
   "id": "30d00c61",
   "metadata": {
    "ExecuteTime": {
     "end_time": "2025-06-04T09:00:19.455041Z",
     "start_time": "2025-06-04T09:00:18.609600Z"
    }
   },
   "source": [
    "import networkx as nx\n",
    "import matplotlib.pyplot as plt\n",
    "import numpy as np\n",
    "\n",
    "def get_edge_predictions(data, graph_idx, model, device):\n",
    "    \"\"\"Get model predictions for a single graph\"\"\"\n",
    "    model.eval()\n",
    "    with torch.no_grad():\n",
    "        # Prepare data dictionaries\n",
    "        graph = data[graph_idx].to(device)\n",
    "        \n",
    "        # Prepare input dictionaries\n",
    "        x_dict = {}\n",
    "        edge_index_dict = {}\n",
    "        edge_attr_dict = {}\n",
    "        \n",
    "        # Get node features\n",
    "        for node_type in graph.node_types:\n",
    "            x_dict[node_type] = graph[node_type].x\n",
    "        \n",
    "        # Get edge features\n",
    "        for edge_type in graph.edge_types:\n",
    "            edge_index = graph[edge_type].edge_index\n",
    "            edge_attr = graph[edge_type].edge_attr\n",
    "\n",
    "            edge_index_dict[edge_type] = edge_index.long()  # Ensure int64\n",
    "            edge_attr_dict[edge_type] = edge_attr\n",
    "        \n",
    "        try:\n",
    "            logits = model(x_dict, edge_index_dict, edge_attr_dict)\n",
    "            return torch.sigmoid(logits).cpu().numpy()\n",
    "        except Exception as e:\n",
    "            print(f\"Error during prediction: {str(e)}\")\n",
    "            return None"
   ],
   "outputs": [],
   "execution_count": 11
  },
  {
   "cell_type": "code",
   "id": "63bf20c9",
   "metadata": {
    "ExecuteTime": {
     "end_time": "2025-06-04T09:04:25.228186Z",
     "start_time": "2025-06-04T09:04:25.217105Z"
    }
   },
   "source": [
    "def visualize_graph(data, graph_idx=0, model=None, device=None):\n",
    "    \"\"\"Visualize a heterogeneous graph with vehicle-request assignments\"\"\"\n",
    "    G = nx.Graph()\n",
    "    \n",
    "    # Color scheme\n",
    "    colors = {\n",
    "        'vehicle': '#FF6B6B',    # Red for vehicles\n",
    "        'request': '#4ECDC4',    # Turquoise for requests\n",
    "    }\n",
    "    \n",
    "    # Get predictions if model is provided\n",
    "    predictions = None\n",
    "    if model is not None and device is not None:\n",
    "        predictions = get_edge_predictions(data, graph_idx, model, device)\n",
    "\n",
    "    # Add nodes\n",
    "    node_colors = []\n",
    "    node_sizes = []\n",
    "    node_labels = {}\n",
    "    \n",
    "    # Only process vehicle and request nodes\n",
    "    for node_type in ['vehicle', 'request']:\n",
    "        if node_type in data[graph_idx].node_types:\n",
    "            nodes = data[graph_idx][node_type]\n",
    "            for i in range(nodes.x.size(0)):\n",
    "                node_name = f'{node_type}_{i}'\n",
    "                G.add_node(node_name, type=node_type)\n",
    "                node_colors.append(colors[node_type])\n",
    "                node_sizes.append(400 if node_type == 'vehicle' else 300)\n",
    "                node_labels[node_name] = f'{node_type[0].upper()}{i}'\n",
    "    \n",
    "    # Process edges and their attributes\n",
    "    edge_count = 0\n",
    "    true_edges = []\n",
    "    true_colors = []\n",
    "    true_styles = []\n",
    "    pred_edges = []\n",
    "    pred_labels = {}\n",
    "    \n",
    "    for edge_type in data[graph_idx].edge_types:\n",
    "        src_type, rel_type, dst_type = edge_type\n",
    "        if rel_type != 'rev_connects':\n",
    "            edge_index = data[graph_idx][edge_type].edge_index\n",
    "            edge_y = data[graph_idx][edge_type].y\n",
    "            \n",
    "            for i in range(edge_index.size(1)):\n",
    "                src = f'{src_type}_{edge_index[0][i].item()}'\n",
    "                dst = f'{dst_type}_{edge_index[1][i].item()}'\n",
    "                G.add_edge(src, dst)\n",
    "\n",
    "\n",
    "                # Add ground truth\n",
    "                true_edges.append((src, dst))\n",
    "                if edge_y is not None and edge_y[i].item() == 1:\n",
    "                    true_colors.append('#FF9999')  # Light red for assignments\n",
    "                    true_styles.append('solid')\n",
    "                else:\n",
    "                    true_colors.append('#CCCCCC')  # Gray for non-assignments\n",
    "                    true_styles.append('dotted')\n",
    "                \n",
    "                # Add predictions\n",
    "                if predictions is not None and edge_count < len(predictions):\n",
    "                    prob = predictions[edge_count][0]\n",
    "                    if prob > 0.5:\n",
    "                        pred_edges.append((src, dst))\n",
    "                        pred_labels[(src, dst)] = f'{prob:.2f}'\n",
    "                    edge_count += 1\n",
    "    \n",
    "    # Create plot\n",
    "    plt.figure(figsize=(12, 8))\n",
    "    pos = nx.spring_layout(G, k=2, iterations=50)\n",
    "    \n",
    "    # Draw nodes\n",
    "    nx.draw_networkx_nodes(G, pos, node_color=node_colors, node_size=node_sizes)\n",
    "    nx.draw_networkx_labels(G, pos, node_labels, font_size=10)\n",
    "    \n",
    "    # Draw ground truth edges\n",
    "    for (u, v), color, style in zip(true_edges, true_colors, true_styles):\n",
    "        nx.draw_networkx_edges(G, pos, edgelist=[(u, v)], edge_color=color,\n",
    "                              style=style, alpha=0.8)\n",
    "    \n",
    "    # Draw predicted edges with an offset\n",
    "    if predictions is not None:\n",
    "        # Create a small offset for predicted edges\n",
    "        edge_offset = 0.03  # Adjust this value to control separation\n",
    "        for edge in pred_edges:\n",
    "            u, v = edge\n",
    "            # Get the original positions\n",
    "            pos_u, pos_v = np.array(pos[u]), np.array(pos[v])\n",
    "            # Calculate the perpendicular offset\n",
    "            dx = pos_v[0] - pos_u[0]\n",
    "            dy = pos_v[1] - pos_u[1]\n",
    "            length = np.sqrt(dx*dx + dy*dy)\n",
    "            # Get perpendicular direction\n",
    "            perpx, perpy = -dy/length, dx/length\n",
    "            # Apply offset\n",
    "            new_pos_u = pos_u + np.array([perpx, perpy]) * edge_offset\n",
    "            new_pos_v = pos_v + np.array([perpx, perpy]) * edge_offset\n",
    "            \n",
    "            # Draw the offset edge\n",
    "            plt.plot([new_pos_u[0], new_pos_v[0]], \n",
    "                    [new_pos_u[1], new_pos_v[1]], \n",
    "                    color='#0000FF', linewidth=2, alpha=0.6,\n",
    "                    linestyle='--', zorder=1)\n",
    "            \n",
    "            # Add probability label at midpoint of offset edge\n",
    "            if edge in pred_labels:\n",
    "                mid_x = (new_pos_u[0] + new_pos_v[0]) / 2\n",
    "                mid_y = (new_pos_u[1] + new_pos_v[1]) / 2\n",
    "                plt.annotate(pred_labels[edge], \n",
    "                           (mid_x, mid_y),\n",
    "                           bbox=dict(facecolor='white', edgecolor='none', alpha=0.7),\n",
    "                           fontsize=8)\n",
    "    \n",
    "    # Add legend\n",
    "    legend_elements = [\n",
    "        plt.Line2D([0], [0], marker='o', color='w', label='Vehicle',\n",
    "                   markerfacecolor=colors['vehicle'], markersize=10),\n",
    "        plt.Line2D([0], [0], marker='o', color='w', label='Request',\n",
    "                   markerfacecolor=colors['request'], markersize=10),\n",
    "        plt.Line2D([0], [0], color='#FF9999', label='True Assignment', linestyle='solid',\n",
    "                   alpha=0.8),\n",
    "        plt.Line2D([0], [0], color='#CCCCCC', label='No Assignment', linestyle='dotted',\n",
    "                   alpha=0.8)\n",
    "    ]\n",
    "    \n",
    "    if predictions is not None:\n",
    "        legend_elements.append(\n",
    "            plt.Line2D([0], [0], color='#0000FF', label='Model Prediction',\n",
    "                       linestyle='--', alpha=0.6, linewidth=2)\n",
    "        )\n",
    "    \n",
    "    plt.legend(handles=legend_elements, loc='center left', bbox_to_anchor=(1, 0.5))\n",
    "    plt.title('Vehicle-Request Assignment Graph')\n",
    "    plt.axis('off')\n",
    "    plt.tight_layout()\n",
    "    plt.show()"
   ],
   "outputs": [],
   "execution_count": 17
  },
  {
   "cell_type": "code",
   "id": "6d4ae7ba",
   "metadata": {
    "ExecuteTime": {
     "end_time": "2025-06-04T09:04:26.073053Z",
     "start_time": "2025-06-04T09:04:25.990391Z"
    }
   },
   "source": "visualize_graph(data, graph_idx=5, model=model, device=device)",
   "outputs": [
    {
     "data": {
      "text/plain": [
       "<Figure size 1200x800 with 1 Axes>"
      ],
      "image/png": "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"
     },
     "metadata": {},
     "output_type": "display_data"
    }
   ],
   "execution_count": 18
  },
  {
   "metadata": {},
   "cell_type": "code",
   "outputs": [],
   "execution_count": null,
   "source": "",
   "id": "b259648fe2572ebf"
  }
 ]
}
