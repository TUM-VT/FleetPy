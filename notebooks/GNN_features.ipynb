{
 "cells": [
  {
   "metadata": {
    "ExecuteTime": {
     "end_time": "2025-02-13T13:21:05.200418Z",
     "start_time": "2025-02-13T13:21:05.197442Z"
    }
   },
   "cell_type": "code",
   "source": [
    "import data_processor\n",
    "from importlib import reload\n",
    "import pandas as pd\n",
    "import shutil\n",
    "import os"
   ],
   "id": "431b4a63df74d5ab",
   "outputs": [],
   "execution_count": 140
  },
  {
   "metadata": {
    "ExecuteTime": {
     "end_time": "2025-02-13T13:21:05.229841Z",
     "start_time": "2025-02-13T13:21:05.225312Z"
    }
   },
   "cell_type": "code",
   "source": "reload(data_processor)",
   "id": "c2dd2eac7bff425f",
   "outputs": [
    {
     "data": {
      "text/plain": [
       "<module 'data_processor' from '/Users/hoda_hamdy/Documents/Projects/fleetpy/FleetPy/notebooks/data_processor.py'>"
      ]
     },
     "execution_count": 141,
     "metadata": {},
     "output_type": "execute_result"
    }
   ],
   "execution_count": 141
  },
  {
   "metadata": {
    "ExecuteTime": {
     "end_time": "2025-02-13T13:21:05.233662Z",
     "start_time": "2025-02-13T13:21:05.232015Z"
    }
   },
   "cell_type": "code",
   "source": "from data_processor import *",
   "id": "bbaa01441ad68b5c",
   "outputs": [],
   "execution_count": 142
  },
  {
   "metadata": {
    "ExecuteTime": {
     "end_time": "2025-02-13T13:21:05.251149Z",
     "start_time": "2025-02-13T13:21:05.249521Z"
    }
   },
   "cell_type": "code",
   "source": [
    "scenario = 'example_pool_sc_1'\n",
    "train_data_dir = f'../studies/GNN_study/results/{scenario}/train/'\n",
    "save_raw_dir = f'data/{scenario}/raw/'\n",
    "save_process_dir = f'data/{scenario}/processed/'\n",
    "sim_duration = 7200  # unit?\n",
    "sim_step = 60  # unit?"
   ],
   "id": "8e270458140b9f0a",
   "outputs": [],
   "execution_count": 143
  },
  {
   "metadata": {
    "ExecuteTime": {
     "end_time": "2025-02-13T13:21:05.427679Z",
     "start_time": "2025-02-13T13:21:05.254573Z"
    }
   },
   "cell_type": "code",
   "source": [
    "data_processor = DataProcessor(train_data_dir, save_raw_dir, sim_duration, sim_step)\n",
    "all_data = data_processor.process_data()"
   ],
   "id": "7c240e2ca1ba3360",
   "outputs": [
    {
     "name": "stderr",
     "output_type": "stream",
     "text": [
      "100%|██████████| 120/120 [00:00<00:00, 706.56it/s]\n"
     ]
    }
   ],
   "execution_count": 144
  },
  {
   "metadata": {
    "ExecuteTime": {
     "end_time": "2025-02-13T13:21:05.504601Z",
     "start_time": "2025-02-13T13:21:05.440258Z"
    }
   },
   "cell_type": "code",
   "source": [
    "shutil.rmtree(f'{save_process_dir}')\n",
    "os.makedirs(f'{save_process_dir}')\n",
    "for name in ['req_features', 'veh_features']:\n",
    "    dfs = []\n",
    "    for timestep, data in enumerate(all_data):\n",
    "        df = pd.DataFrame.from_dict(data[name], orient='index')\n",
    "        df['timestep'] = timestep\n",
    "        dfs.append(df)\n",
    "    pd.concat(dfs).to_csv(f'{save_process_dir}/{name}.csv', index=False)"
   ],
   "id": "47423349df650a38",
   "outputs": [],
   "execution_count": 145
  },
  {
   "metadata": {
    "ExecuteTime": {
     "end_time": "2025-02-13T13:21:05.601085Z",
     "start_time": "2025-02-13T13:21:05.506831Z"
    }
   },
   "cell_type": "code",
   "source": [
    "def get_edge_attrs(info):\n",
    "    edge_attrs = {}\n",
    "    # TODO use more meaningful naming\n",
    "    if type(info['travel_cost']) == list:\n",
    "        for i in range(len(info['travel_cost'])):\n",
    "            edge_attrs[f'travel_time{i}'] = info['travel_cost'][i]['travel_time']\n",
    "    else:\n",
    "        edge_attrs['travel_time'] = info['travel_time']\n",
    "    edge_attrs['common_nghbs'] = info['common_nghbs']\n",
    "    edge_attrs['jaccards_coeff'] = info['jaccards_coeff']\n",
    "    edge_attrs['init_label'] = info.get('init_assign', 0)\n",
    "    edge_attrs['label'] = info.get('opt_assign', 0)\n",
    "    return edge_attrs\n",
    "\n",
    "for name in ['rr_graph', 'vr_graph']:\n",
    "    dfs = []\n",
    "    for timestep, data in enumerate(all_data):\n",
    "        df = [{'source': node, 'target': nghb, **get_edge_attrs(info)} for node, nghbs in data[name].items() for nghb, info in nghbs.items()]\n",
    "        df = pd.DataFrame(df)\n",
    "        df['timestep'] = timestep\n",
    "        dfs.append(df)\n",
    "    pd.concat(dfs).to_csv(f'{save_process_dir}/{name}.csv', index=False)"
   ],
   "id": "218b687d0b9b6c46",
   "outputs": [],
   "execution_count": 146
  }
 ],
 "metadata": {
  "kernelspec": {
   "display_name": "Python 3",
   "language": "python",
   "name": "python3"
  },
  "language_info": {
   "codemirror_mode": {
    "name": "ipython",
    "version": 2
   },
   "file_extension": ".py",
   "mimetype": "text/x-python",
   "name": "python",
   "nbconvert_exporter": "python",
   "pygments_lexer": "ipython2",
   "version": "2.7.6"
  }
 },
 "nbformat": 4,
 "nbformat_minor": 5
}
