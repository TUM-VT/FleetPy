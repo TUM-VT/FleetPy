{
 "cells": [
  {
   "metadata": {
    "ExecuteTime": {
     "end_time": "2025-02-14T16:54:53.984294Z",
     "start_time": "2025-02-14T16:54:53.981491Z"
    }
   },
   "cell_type": "code",
   "source": [
    "import data_processor\n",
    "from importlib import reload\n",
    "import pandas as pd\n",
    "import shutil"
   ],
   "id": "431b4a63df74d5ab",
   "outputs": [],
   "execution_count": 35
  },
  {
   "metadata": {
    "ExecuteTime": {
     "end_time": "2025-02-14T16:54:54.013069Z",
     "start_time": "2025-02-14T16:54:54.009852Z"
    }
   },
   "cell_type": "code",
   "source": "reload(data_processor)",
   "id": "c2dd2eac7bff425f",
   "outputs": [
    {
     "data": {
      "text/plain": [
       "<module 'data_processor' from '/Users/hoda_hamdy/Documents/Projects/fleetpy/FleetPy/notebooks/data_processor.py'>"
      ]
     },
     "execution_count": 36,
     "metadata": {},
     "output_type": "execute_result"
    }
   ],
   "execution_count": 36
  },
  {
   "metadata": {
    "ExecuteTime": {
     "end_time": "2025-02-14T16:54:54.027110Z",
     "start_time": "2025-02-14T16:54:54.025601Z"
    }
   },
   "cell_type": "code",
   "source": "from data_processor import *",
   "id": "bbaa01441ad68b5c",
   "outputs": [],
   "execution_count": 37
  },
  {
   "metadata": {
    "ExecuteTime": {
     "end_time": "2025-02-14T16:54:54.036438Z",
     "start_time": "2025-02-14T16:54:54.034865Z"
    }
   },
   "cell_type": "code",
   "source": [
    "scenario = 'example_pool_sc_1'\n",
    "train_data_dir = f'../studies/GNN_study/results/{scenario}/train/'\n",
    "save_raw_dir = f'data/{scenario}/raw/'\n",
    "save_process_dir = f'data/{scenario}/processed/'\n",
    "sim_duration = 7200  # seconds\n",
    "sim_step = 60  # seconds"
   ],
   "id": "8e270458140b9f0a",
   "outputs": [],
   "execution_count": 38
  },
  {
   "metadata": {
    "ExecuteTime": {
     "end_time": "2025-02-14T16:54:54.196697Z",
     "start_time": "2025-02-14T16:54:54.043767Z"
    }
   },
   "cell_type": "code",
   "source": [
    "data_processor = DataProcessor(train_data_dir, save_raw_dir, sim_duration, sim_step)\n",
    "all_data = data_processor.process_data()"
   ],
   "id": "7c240e2ca1ba3360",
   "outputs": [
    {
     "name": "stderr",
     "output_type": "stream",
     "text": [
      "100%|██████████| 120/120 [00:00<00:00, 801.59it/s]\n"
     ]
    }
   ],
   "execution_count": 39
  },
  {
   "metadata": {
    "ExecuteTime": {
     "end_time": "2025-02-14T16:54:54.267517Z",
     "start_time": "2025-02-14T16:54:54.203498Z"
    }
   },
   "cell_type": "code",
   "source": [
    "shutil.rmtree(f'{save_process_dir}')\n",
    "os.makedirs(f'{save_process_dir}')\n",
    "for name in ['req_features', 'veh_features']:\n",
    "    dfs = []\n",
    "    for timestep, data in enumerate(all_data):\n",
    "        df = pd.DataFrame.from_dict(data[name], orient='index')\n",
    "        df['timestep'] = timestep\n",
    "        dfs.append(df)\n",
    "    pd.concat(dfs).to_csv(f'{save_process_dir}/{name}.csv', index_label='id')"
   ],
   "id": "47423349df650a38",
   "outputs": [],
   "execution_count": 40
  },
  {
   "metadata": {
    "ExecuteTime": {
     "end_time": "2025-02-14T16:54:54.275935Z",
     "start_time": "2025-02-14T16:54:54.274212Z"
    }
   },
   "cell_type": "code",
   "source": "node_mapping = {timestep: {rid: ind for ind, rid in enumerate(data['req_features'].keys())} for timestep, data in enumerate(all_data)}",
   "id": "20860a1640e31527",
   "outputs": [],
   "execution_count": 41
  },
  {
   "metadata": {
    "ExecuteTime": {
     "end_time": "2025-02-14T16:54:54.285119Z",
     "start_time": "2025-02-14T16:54:54.282875Z"
    }
   },
   "cell_type": "code",
   "source": [
    "def get_edge_attrs(name, node, nghb, info):\n",
    "    edge_attrs = {'source': node_mapping[timestep][node] if name == 'rr_graph' else node,\n",
    "                  'target': node_mapping[timestep][nghb]}\n",
    "    # TODO use more meaningful naming\n",
    "    if type(info['travel_cost']) == list:\n",
    "        for i in range(len(info['travel_cost'])):\n",
    "            edge_attrs[f'travel_time{i}'] = info['travel_cost'][i]['travel_time']\n",
    "    else:\n",
    "        edge_attrs['travel_time'] = info['travel_time']\n",
    "    edge_attrs['common_nghbs'] = info['common_nghbs']\n",
    "    edge_attrs['jaccards_coeff'] = info['jaccards_coeff']\n",
    "    edge_attrs['init_label'] = info.get('init_assign', 0)\n",
    "    edge_attrs['label'] = info.get('opt_assign', 0)\n",
    "    return edge_attrs"
   ],
   "id": "d219640e1c0037a8",
   "outputs": [],
   "execution_count": 42
  },
  {
   "metadata": {
    "ExecuteTime": {
     "end_time": "2025-02-14T16:54:54.359699Z",
     "start_time": "2025-02-14T16:54:54.291962Z"
    }
   },
   "cell_type": "code",
   "source": [
    "for name in ['rr_graph', 'vr_graph']:\n",
    "    dfs = []\n",
    "    for timestep, data in enumerate(all_data):\n",
    "        df = [get_edge_attrs(name, node, nghb, info) for node, nghbs in data[name].items() for nghb, info in nghbs.items()]\n",
    "        df = pd.DataFrame(df)\n",
    "        df['timestep'] = timestep\n",
    "        dfs.append(df)\n",
    "    pd.concat(dfs).to_csv(f'{save_process_dir}/{name}.csv', index=False)"
   ],
   "id": "218b687d0b9b6c46",
   "outputs": [],
   "execution_count": 43
  }
 ],
 "metadata": {
  "kernelspec": {
   "display_name": "Python 3",
   "language": "python",
   "name": "python3"
  },
  "language_info": {
   "codemirror_mode": {
    "name": "ipython",
    "version": 2
   },
   "file_extension": ".py",
   "mimetype": "text/x-python",
   "name": "python",
   "nbconvert_exporter": "python",
   "pygments_lexer": "ipython2",
   "version": "2.7.6"
  }
 },
 "nbformat": 4,
 "nbformat_minor": 5
}
